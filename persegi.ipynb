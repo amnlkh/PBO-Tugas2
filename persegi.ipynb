{
  "nbformat": 4,
  "nbformat_minor": 0,
  "metadata": {
    "colab": {
      "provenance": [],
      "authorship_tag": "ABX9TyMiI1nnQRNg5biGbvWPjPtf",
      "include_colab_link": true
    },
    "kernelspec": {
      "name": "python3",
      "display_name": "Python 3"
    },
    "language_info": {
      "name": "python"
    }
  },
  "cells": [
    {
      "cell_type": "markdown",
      "metadata": {
        "id": "view-in-github",
        "colab_type": "text"
      },
      "source": [
        "<a href=\"https://colab.research.google.com/github/amnlkh/PBO-Tugas2/blob/main/persegi.ipynb\" target=\"_parent\"><img src=\"https://colab.research.google.com/assets/colab-badge.svg\" alt=\"Open In Colab\"/></a>"
      ]
    },
    {
      "cell_type": "markdown",
      "source": [
        "Kelas Persegi"
      ],
      "metadata": {
        "id": "-7zsE5xqrOLS"
      }
    },
    {
      "cell_type": "code",
      "execution_count": null,
      "metadata": {
        "id": "xDI_FUKFrLFB"
      },
      "outputs": [],
      "source": [
        "class Persegi:\n",
        "    def __init__(self, sisi):\n",
        "        self.sisi = sisi\n",
        "\n",
        "    def hitung_luas(self):\n",
        "        return self.sisi * self.sisi\n",
        "\n",
        "    def hitung_keliling(self):\n",
        "        return 4 * self.sisi\n",
        "\n",
        "# Membuat objek\n",
        "persegi_saya = Persegi(4)\n",
        "luas = persegi_saya.hitung_luas()\n",
        "keliling = persegi_saya.hitung_keliling()\n",
        "print(f\"Luas Persegi: {luas}, Keliling Persegi: {keliling}\")"
      ]
    }
  ]
}