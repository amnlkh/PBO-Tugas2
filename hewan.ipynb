{
  "nbformat": 4,
  "nbformat_minor": 0,
  "metadata": {
    "colab": {
      "provenance": [],
      "authorship_tag": "ABX9TyO2cxQFW9ilBIF08AtSr2+v",
      "include_colab_link": true
    },
    "kernelspec": {
      "name": "python3",
      "display_name": "Python 3"
    },
    "language_info": {
      "name": "python"
    }
  },
  "cells": [
    {
      "cell_type": "markdown",
      "metadata": {
        "id": "view-in-github",
        "colab_type": "text"
      },
      "source": [
        "<a href=\"https://colab.research.google.com/github/amnlkh/PBO-Tugas2/blob/main/hewan.ipynb\" target=\"_parent\"><img src=\"https://colab.research.google.com/assets/colab-badge.svg\" alt=\"Open In Colab\"/></a>"
      ]
    },
    {
      "cell_type": "markdown",
      "source": [
        "Kelas Hewan"
      ],
      "metadata": {
        "id": "Hth4xVQpqxh7"
      }
    },
    {
      "cell_type": "code",
      "execution_count": 1,
      "metadata": {
        "colab": {
          "base_uri": "https://localhost:8080/"
        },
        "id": "VcfeJEqSpPo6",
        "outputId": "9efe9eb2-f57c-4c32-bf6a-3e51bb360cfb"
      },
      "outputs": [
        {
          "output_type": "stream",
          "name": "stdout",
          "text": [
            "Kitty bersuara: Meow\n",
            "Buddy bersuara: Guk Guk\n"
          ]
        }
      ],
      "source": [
        "class Hewan:\n",
        "    def __init__(self, nama, jenis):\n",
        "        self.nama = nama\n",
        "        self.jenis = jenis\n",
        "\n",
        "    def suara(self):\n",
        "        if self.jenis == \"Kucing\":\n",
        "            return \"Meow\"\n",
        "        elif self.jenis == \"Anjing\":\n",
        "            return \"Guk Guk\"\n",
        "        else:\n",
        "            return \"Suara hewan tidak dikenal\"\n",
        "\n",
        "# Membuat objek\n",
        "kucing = Hewan(\"Kitty\", \"Kucing\")\n",
        "anjing = Hewan(\"Buddy\", \"Anjing\")\n",
        "print(f\"{kucing.nama} bersuara: {kucing.suara()}\")\n",
        "print(f\"{anjing.nama} bersuara: {anjing.suara()}\")"
      ]
    }
  ]
}