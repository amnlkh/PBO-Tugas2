{
  "nbformat": 4,
  "nbformat_minor": 0,
  "metadata": {
    "colab": {
      "provenance": [],
      "authorship_tag": "ABX9TyNZ7RHyFo+ngT8fL3j1aTn9",
      "include_colab_link": true
    },
    "kernelspec": {
      "name": "python3",
      "display_name": "Python 3"
    },
    "language_info": {
      "name": "python"
    }
  },
  "cells": [
    {
      "cell_type": "markdown",
      "metadata": {
        "id": "view-in-github",
        "colab_type": "text"
      },
      "source": [
        "<a href=\"https://colab.research.google.com/github/amnlkh/PBO-Tugas2/blob/main/mahasiswa.ipynb\" target=\"_parent\"><img src=\"https://colab.research.google.com/assets/colab-badge.svg\" alt=\"Open In Colab\"/></a>"
      ]
    },
    {
      "cell_type": "markdown",
      "source": [
        "Kelas Mahasiswa\n"
      ],
      "metadata": {
        "id": "xl_b73Ehepr9"
      }
    },
    {
      "cell_type": "code",
      "execution_count": 7,
      "metadata": {
        "colab": {
          "base_uri": "https://localhost:8080/"
        },
        "id": "cohgfbEYatlS",
        "outputId": "c2aecc15-1ea2-47e5-e876-b5b9b0e92a50"
      },
      "outputs": [
        {
          "output_type": "stream",
          "name": "stdout",
          "text": [
            "KRS Budi (NIM: 123456): Matematika, Fisika\n"
          ]
        }
      ],
      "source": [
        "class Mahasiswa:\n",
        "    def __init__(self, nama, nim):\n",
        "        self.nama = nama\n",
        "        self.nim = nim\n",
        "        self.krs = []\n",
        "\n",
        "    def cetak_krs(self):\n",
        "        print(f\"KRS {self.nama} (NIM: {self.nim}): {', '.join(self.krs) if self.krs else 'Belum ada KRS'}\")\n",
        "\n",
        "    def tambah_mata_kuliah(self, mata_kuliah):\n",
        "        self.krs.append(mata_kuliah)\n",
        "\n",
        "# Membuat objek\n",
        "mhs = Mahasiswa(\"Budi\", \"123456\")\n",
        "mhs.tambah_mata_kuliah(\"Matematika\")\n",
        "mhs.tambah_mata_kuliah(\"Fisika\")\n",
        "mhs.cetak_krs()"
      ]
    }
  ]
}